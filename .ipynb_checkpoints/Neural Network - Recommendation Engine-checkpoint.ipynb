{
 "cells": [
  {
   "cell_type": "code",
   "execution_count": 96,
   "metadata": {},
   "outputs": [],
   "source": [
    "import pandas as pd\n",
    "\n",
    "game_reviews = pd.read_csv('data\\\\Processed Data\\\\game_reviews.csv')\n",
    "games = pd.read_csv('data\\\\Processed Data\\\\games.csv')\n",
    "genres = pd.read_csv('data\\\\Processed Data\\\\genres.csv')\n",
    "game_genre_tags = pd.read_csv('data\\\\Processed Data\\\\game_genre_tags.csv')\n",
    "platforms = pd.read_csv('data\\\\Processed Data\\\\platforms.csv')"
   ]
  },
  {
   "cell_type": "markdown",
   "metadata": {},
   "source": [
    "To Do:\n",
    " - What data needs to be added to review table for the engine?\n",
    " - Preliminary Neural Network model\n",
    " - How to allow a user to access the model, and make further preferential selections?"
   ]
  },
  {
   "cell_type": "markdown",
   "metadata": {},
   "source": [
    "#### Prep Data"
   ]
  },
  {
   "cell_type": "code",
   "execution_count": 17,
   "metadata": {},
   "outputs": [],
   "source": [
    "titles = games[['title', 'game_ID']]\n",
    "reviews = pd.merge(game_reviews, titles, how=\"left\", on=\"game_ID\")\n",
    "reviews = reviews[pd.notnull(reviews['review_text'])]"
   ]
  },
  {
   "cell_type": "code",
   "execution_count": 18,
   "metadata": {},
   "outputs": [
    {
     "data": {
      "text/plain": [
       "game_ID             0\n",
       "user_ID             0\n",
       "score            3170\n",
       "review_text         0\n",
       "date           193598\n",
       "title               0\n",
       "dtype: int64"
      ]
     },
     "execution_count": 18,
     "metadata": {},
     "output_type": "execute_result"
    }
   ],
   "source": [
    "reviews.isna().sum()"
   ]
  },
  {
   "cell_type": "markdown",
   "metadata": {},
   "source": [
    "#### Build Model"
   ]
  },
  {
   "cell_type": "code",
   "execution_count": 19,
   "metadata": {},
   "outputs": [],
   "source": [
    "import gensim\n",
    "from gensim.models.doc2vec import Doc2Vec, TaggedDocument\n",
    "from gensim.utils import simple_preprocess"
   ]
  },
  {
   "cell_type": "code",
   "execution_count": 20,
   "metadata": {},
   "outputs": [],
   "source": [
    "#assert gensim.models.doc2vec.FAST_VERSION > -1"
   ]
  },
  {
   "cell_type": "code",
   "execution_count": 127,
   "metadata": {},
   "outputs": [
    {
     "data": {
      "text/html": [
       "<div>\n",
       "<style scoped>\n",
       "    .dataframe tbody tr th:only-of-type {\n",
       "        vertical-align: middle;\n",
       "    }\n",
       "\n",
       "    .dataframe tbody tr th {\n",
       "        vertical-align: top;\n",
       "    }\n",
       "\n",
       "    .dataframe thead th {\n",
       "        text-align: right;\n",
       "    }\n",
       "</style>\n",
       "<table border=\"1\" class=\"dataframe\">\n",
       "  <thead>\n",
       "    <tr style=\"text-align: right;\">\n",
       "      <th></th>\n",
       "      <th>game_ID</th>\n",
       "      <th>user_ID</th>\n",
       "      <th>score</th>\n",
       "      <th>review_text</th>\n",
       "      <th>date</th>\n",
       "      <th>title</th>\n",
       "    </tr>\n",
       "  </thead>\n",
       "  <tbody>\n",
       "    <tr>\n",
       "      <th>0</th>\n",
       "      <td>10000</td>\n",
       "      <td>1</td>\n",
       "      <td>100.0</td>\n",
       "      <td>To say that this game is \"fast\" is an understa...</td>\n",
       "      <td>NaN</td>\n",
       "      <td>Burnout 3: Takedown</td>\n",
       "    </tr>\n",
       "    <tr>\n",
       "      <th>1</th>\n",
       "      <td>10001</td>\n",
       "      <td>1</td>\n",
       "      <td>70.0</td>\n",
       "      <td>The gothic-anime art direction and voice actin...</td>\n",
       "      <td>NaN</td>\n",
       "      <td>Eternal Poison</td>\n",
       "    </tr>\n",
       "    <tr>\n",
       "      <th>2</th>\n",
       "      <td>10012</td>\n",
       "      <td>1</td>\n",
       "      <td>65.0</td>\n",
       "      <td>Series fans'll eat it up , but others may want...</td>\n",
       "      <td>NaN</td>\n",
       "      <td>Digimon World: Dusk</td>\n",
       "    </tr>\n",
       "    <tr>\n",
       "      <th>3</th>\n",
       "      <td>10013</td>\n",
       "      <td>1</td>\n",
       "      <td>70.0</td>\n",
       "      <td>The result, though a little awkward, is a hybr...</td>\n",
       "      <td>NaN</td>\n",
       "      <td>Sigma Star Saga</td>\n",
       "    </tr>\n",
       "    <tr>\n",
       "      <th>4</th>\n",
       "      <td>10042</td>\n",
       "      <td>1</td>\n",
       "      <td>10.0</td>\n",
       "      <td>While it is a nice throwback to the retro arca...</td>\n",
       "      <td>NaN</td>\n",
       "      <td>NBA Unrivaled</td>\n",
       "    </tr>\n",
       "    <tr>\n",
       "      <th>...</th>\n",
       "      <td>...</td>\n",
       "      <td>...</td>\n",
       "      <td>...</td>\n",
       "      <td>...</td>\n",
       "      <td>...</td>\n",
       "      <td>...</td>\n",
       "    </tr>\n",
       "    <tr>\n",
       "      <th>1080619</th>\n",
       "      <td>26948</td>\n",
       "      <td>323194</td>\n",
       "      <td>10.0</td>\n",
       "      <td>The best dlc ever for the best saga in gaming...</td>\n",
       "      <td>Jun 30, 2017</td>\n",
       "      <td>Dark Souls III: The Ringed City</td>\n",
       "    </tr>\n",
       "    <tr>\n",
       "      <th>1080620</th>\n",
       "      <td>26949</td>\n",
       "      <td>323195</td>\n",
       "      <td>6.0</td>\n",
       "      <td>Well, here we are. Pinball FX3 is probably the...</td>\n",
       "      <td>Jan 14, 2018</td>\n",
       "      <td>Pinball FX3</td>\n",
       "    </tr>\n",
       "    <tr>\n",
       "      <th>1080621</th>\n",
       "      <td>26949</td>\n",
       "      <td>323196</td>\n",
       "      <td>9.0</td>\n",
       "      <td>Surprisingly fun and addicting game.  I have ...</td>\n",
       "      <td>Mar  4, 2018</td>\n",
       "      <td>Pinball FX3</td>\n",
       "    </tr>\n",
       "    <tr>\n",
       "      <th>1080622</th>\n",
       "      <td>26949</td>\n",
       "      <td>323197</td>\n",
       "      <td>4.0</td>\n",
       "      <td>I have always loved pinball. I've found it cap...</td>\n",
       "      <td>Dec 31, 2017</td>\n",
       "      <td>Pinball FX3</td>\n",
       "    </tr>\n",
       "    <tr>\n",
       "      <th>1080623</th>\n",
       "      <td>26949</td>\n",
       "      <td>323198</td>\n",
       "      <td>9.0</td>\n",
       "      <td>This is a great pinball game. It has a huge am...</td>\n",
       "      <td>Jun 20, 2018</td>\n",
       "      <td>Pinball FX3</td>\n",
       "    </tr>\n",
       "  </tbody>\n",
       "</table>\n",
       "<p>1080525 rows × 6 columns</p>\n",
       "</div>"
      ],
      "text/plain": [
       "         game_ID  user_ID  score  \\\n",
       "0          10000        1  100.0   \n",
       "1          10001        1   70.0   \n",
       "2          10012        1   65.0   \n",
       "3          10013        1   70.0   \n",
       "4          10042        1   10.0   \n",
       "...          ...      ...    ...   \n",
       "1080619    26948   323194   10.0   \n",
       "1080620    26949   323195    6.0   \n",
       "1080621    26949   323196    9.0   \n",
       "1080622    26949   323197    4.0   \n",
       "1080623    26949   323198    9.0   \n",
       "\n",
       "                                               review_text          date  \\\n",
       "0        To say that this game is \"fast\" is an understa...           NaN   \n",
       "1        The gothic-anime art direction and voice actin...           NaN   \n",
       "2        Series fans'll eat it up , but others may want...           NaN   \n",
       "3        The result, though a little awkward, is a hybr...           NaN   \n",
       "4        While it is a nice throwback to the retro arca...           NaN   \n",
       "...                                                    ...           ...   \n",
       "1080619   The best dlc ever for the best saga in gaming...  Jun 30, 2017   \n",
       "1080620  Well, here we are. Pinball FX3 is probably the...  Jan 14, 2018   \n",
       "1080621   Surprisingly fun and addicting game.  I have ...  Mar  4, 2018   \n",
       "1080622  I have always loved pinball. I've found it cap...  Dec 31, 2017   \n",
       "1080623  This is a great pinball game. It has a huge am...  Jun 20, 2018   \n",
       "\n",
       "                                   title  \n",
       "0                    Burnout 3: Takedown  \n",
       "1                         Eternal Poison  \n",
       "2                    Digimon World: Dusk  \n",
       "3                        Sigma Star Saga  \n",
       "4                          NBA Unrivaled  \n",
       "...                                  ...  \n",
       "1080619  Dark Souls III: The Ringed City  \n",
       "1080620                      Pinball FX3  \n",
       "1080621                      Pinball FX3  \n",
       "1080622                      Pinball FX3  \n",
       "1080623                      Pinball FX3  \n",
       "\n",
       "[1080525 rows x 6 columns]"
      ]
     },
     "execution_count": 127,
     "metadata": {},
     "output_type": "execute_result"
    }
   ],
   "source": [
    "reviews"
   ]
  },
  {
   "cell_type": "code",
   "execution_count": 21,
   "metadata": {},
   "outputs": [],
   "source": [
    "# MyDocs reading from a data frame\n",
    "class MyDocs(object):\n",
    "    def __iter__(self):\n",
    "        for i in range(reviews.shape[0]):\n",
    "            yield TaggedDocument(words=simple_preprocess(reviews.iloc[i,3]), tags=['%s' % reviews.iloc[i,0]])"
   ]
  },
  {
   "cell_type": "code",
   "execution_count": 22,
   "metadata": {},
   "outputs": [
    {
     "name": "stdout",
     "output_type": "stream",
     "text": [
      "Wall time: 2.15 s\n"
     ]
    }
   ],
   "source": [
    "%%time\n",
    "import multiprocessing\n",
    "import os\n",
    "cores = multiprocessing.cpu_count()\n",
    "\n",
    "try:\n",
    "    doc2vec_model = Doc2Vec.load('models/doc2vec.model')\n",
    "\n",
    "except:\n",
    "    print(\"start traing doc2vec model...\")\n",
    "    documents = MyDocs()\n",
    "    doc2vec_model = Doc2Vec(dm=1, dbow_words=1, vector_size=200, window=8, min_count=20, workers=cores)\n",
    "    doc2vec_model.build_vocab(documents)\n",
    "    doc2vec_model.train(documents, total_examples=doc2vec_model.corpus_count, epochs=doc2vec_model.epochs)\n",
    "    if not os.path.exists('models'):\n",
    "        os.makedirs('models')\n",
    "        doc2vec_model.save('models/doc2vec.model')\n",
    "    else:\n",
    "        doc2vec_model.save('models/doc2vec.model')"
   ]
  },
  {
   "cell_type": "code",
   "execution_count": 23,
   "metadata": {},
   "outputs": [],
   "source": [
    "def search(keyword):\n",
    "    result = []\n",
    "    for name in reviews.title:\n",
    "        if keyword in name.lower():\n",
    "            result.append(name)\n",
    "    return set(result)"
   ]
  },
  {
   "cell_type": "code",
   "execution_count": 24,
   "metadata": {},
   "outputs": [
    {
     "data": {
      "text/plain": [
       "{'Overwatch'}"
      ]
     },
     "execution_count": 24,
     "metadata": {},
     "output_type": "execute_result"
    }
   ],
   "source": [
    "search('overwatch')"
   ]
  },
  {
   "cell_type": "code",
   "execution_count": 64,
   "metadata": {},
   "outputs": [
    {
     "data": {
      "text/plain": [
       "[('RIDE 3', 0.5268259644508362),\n",
       " ('Project Gotham Racing 3', 0.5253642797470093),\n",
       " ('Driveclub Bikes', 0.5123881101608276),\n",
       " ('Midnight Club: Los Angeles', 0.5112804770469666),\n",
       " ('RIDE', 0.5072597861289978)]"
      ]
     },
     "execution_count": 64,
     "metadata": {},
     "output_type": "execute_result"
    }
   ],
   "source": [
    "vec = doc2vec_model['cars']\n",
    "doc2vec_model.docvecs.most_similar([vec], topn=5)"
   ]
  },
  {
   "cell_type": "code",
   "execution_count": 82,
   "metadata": {},
   "outputs": [
    {
     "data": {
      "text/plain": [
       "[('Minecraft', 0.8085135221481323),\n",
       " ('Starbound', 0.7476636171340942),\n",
       " ('Minecraft: Xbox 360 Edition', 0.731022834777832),\n",
       " (\"Don't Starve\", 0.6798550486564636),\n",
       " ('Minecraft: PlayStation 4 Edition', 0.6790744662284851),\n",
       " ('Minecraft: Xbox One Edition', 0.6783989071846008),\n",
       " ('Portal Knights', 0.6619856357574463),\n",
       " ('Minecraft: PlayStation 3 Edition', 0.647018551826477),\n",
       " ('Minecraft Dungeons', 0.6276648044586182),\n",
       " ('SteamWorld Dig', 0.6103273630142212)]"
      ]
     },
     "execution_count": 82,
     "metadata": {},
     "output_type": "execute_result"
    }
   ],
   "source": [
    "doc2vec_model.docvecs.most_similar('Terraria', topn=20)"
   ]
  },
  {
   "cell_type": "code",
   "execution_count": 124,
   "metadata": {},
   "outputs": [],
   "source": [
    "class Recommender(object):\n",
    "    def __init__(self, model, games_df, platform_df, genre_df, game_genre_tags_df):\n",
    "        self.model = model\n",
    "        self.games_df = games_df\n",
    "        self.platform_df = platform_df\n",
    "        self.genre_df = genre_df\n",
    "        self.game_genre_tags_df = game_genre_tags_df\n",
    "        \n",
    "        self.genre_dict = {}\n",
    "        for i in self.game_genre_tags_df['game_ID'].unique():\n",
    "            self.genre_dict[i] = [self.game_genre_tags_df['genre_ID'][j] for j in self.game_genre_tags_df[self.game_genre_tags_df['game_ID']==i].index]\n",
    "\n",
    "    def create_lookup(self):\n",
    "        self.lookup_df = self.games_df[['game_ID', 'title', 'platform_ID', 'summary', 'url']]\n",
    "        self.lookup_df['game_ID'] = self.lookup_df['game_ID'].astype(str)\n",
    "        self.lookup_dict = self.lookup_df.set_index('game_ID').to_dict(orient='index')\n",
    "        return self.lookup_dict\n",
    "        \n",
    "    def get_recommendations(self, keyword):\n",
    "        return self.model.docvecs.most_similar(keyword, topn=100)\n",
    "\n",
    "    def get_filtered_recommendations(self, keyword, platform_ID, genre_IDs, n):\n",
    "        lookup_dict = self.create_lookup()\n",
    "        ranked_results = self.get_recommendations(keyword)\n",
    "        \n",
    "        filtered_results = {}\n",
    "\n",
    "        for game in ranked_results:\n",
    "            if len(filtered_results) < n:\n",
    "                dict_id = game[0]\n",
    "                dict_game_name = lookup_dict[game[0]]['title']\n",
    "                dict_platform_ID = lookup_dict[game[0]]['platform_ID']\n",
    "                dict_summary = lookup_dict[game[0]]['summary']\n",
    "                dict_url = lookup_dict[game[0]]['url']\n",
    "                \n",
    "                if (platform_ID is None) and (len(genre_IDs) == 0):\n",
    "                    filtered_results[dict_id] = (dict_game_name, dict_summary, dict_url)\n",
    "\n",
    "                elif len(genre_IDs) == 0:\n",
    "                    if (dict_platform_ID == platform_ID):\n",
    "                        if dict_id in filtered_results:\n",
    "                            continue\n",
    "                        else:\n",
    "                            filtered_results[dict_id] = (dict_game_name, dict_summary, dict_url)\n",
    "\n",
    "                elif platform_ID is None:\n",
    "                    if set(genre_IDs) & set(self.genre_dict[dict_id]) > 0:\n",
    "                        if dict_id in filtered_results:\n",
    "                            continue\n",
    "                        else:\n",
    "                            filtered_results[dict_id] = (dict_game_name, dict_summary, dict_url)\n",
    "\n",
    "                elif (dict_platform_ID == platform_ID) and (set(genre_IDs) & set(self.genre_dict[dict_id]) > 0):\n",
    "                        if dict_id in filtered_results:\n",
    "                            continue\n",
    "                        else:  \n",
    "                            filtered_results[dict_id] = (dict_game_name, dict_summary, dict_url)\n",
    "\n",
    "        if len(filtered_results) > 0:\n",
    "            return filtered_results\n",
    "        else:\n",
    "            return \n",
    "        \n",
    "    def lookup_id(self, id_number, id_type):\n",
    "        if id_type == 'game':\n",
    "            return self.games_df[self.games_df['game_ID']==id_number]\n",
    "            \n",
    "        elif id_type == 'platform':\n",
    "            return self.platform_df[self.platform_df['platform_ID']==id_number]['platform'][0]\n",
    "        \n",
    "        elif id_type == 'genre':\n",
    "            return self.genre_df[self.genre_df['genre_ID']==id_number]['genre_name'][0]\n",
    "        \n",
    "        else:\n",
    "            raise ValueError(\"id_type must equal 'game', 'platform', or 'genre'\")\n",
    "        "
   ]
  },
  {
   "cell_type": "code",
   "execution_count": 125,
   "metadata": {},
   "outputs": [],
   "source": [
    "test = Recommender(doc2vec_model, games, platforms, genres, game_genre_tags)"
   ]
  },
  {
   "cell_type": "code",
   "execution_count": 126,
   "metadata": {},
   "outputs": [
    {
     "name": "stderr",
     "output_type": "stream",
     "text": [
      "D:\\Anaconda\\lib\\site-packages\\ipykernel_launcher.py:15: SettingWithCopyWarning: \n",
      "A value is trying to be set on a copy of a slice from a DataFrame.\n",
      "Try using .loc[row_indexer,col_indexer] = value instead\n",
      "\n",
      "See the caveats in the documentation: http://pandas.pydata.org/pandas-docs/stable/user_guide/indexing.html#returning-a-view-versus-a-copy\n",
      "  from ipykernel import kernelapp as app\n"
     ]
    },
    {
     "ename": "KeyError",
     "evalue": "'Minecraft'",
     "output_type": "error",
     "traceback": [
      "\u001b[1;31m---------------------------------------------------------------------------\u001b[0m",
      "\u001b[1;31mKeyError\u001b[0m                                  Traceback (most recent call last)",
      "\u001b[1;32m<ipython-input-126-f71408465124>\u001b[0m in \u001b[0;36m<module>\u001b[1;34m\u001b[0m\n\u001b[1;32m----> 1\u001b[1;33m \u001b[0mtest\u001b[0m\u001b[1;33m.\u001b[0m\u001b[0mget_filtered_recommendations\u001b[0m\u001b[1;33m(\u001b[0m\u001b[1;34m'Terraria'\u001b[0m\u001b[1;33m,\u001b[0m \u001b[1;36m3\u001b[0m\u001b[1;33m,\u001b[0m \u001b[1;33m[\u001b[0m\u001b[1;33m]\u001b[0m\u001b[1;33m,\u001b[0m \u001b[1;36m10\u001b[0m\u001b[1;33m)\u001b[0m\u001b[1;33m\u001b[0m\u001b[1;33m\u001b[0m\u001b[0m\n\u001b[0m",
      "\u001b[1;32m<ipython-input-124-46f5694a5712>\u001b[0m in \u001b[0;36mget_filtered_recommendations\u001b[1;34m(self, keyword, platform_ID, genre_IDs, n)\u001b[0m\n\u001b[0;32m     29\u001b[0m             \u001b[1;32mif\u001b[0m \u001b[0mlen\u001b[0m\u001b[1;33m(\u001b[0m\u001b[0mfiltered_results\u001b[0m\u001b[1;33m)\u001b[0m \u001b[1;33m<\u001b[0m \u001b[0mn\u001b[0m\u001b[1;33m:\u001b[0m\u001b[1;33m\u001b[0m\u001b[1;33m\u001b[0m\u001b[0m\n\u001b[0;32m     30\u001b[0m                 \u001b[0mdict_id\u001b[0m \u001b[1;33m=\u001b[0m \u001b[0mgame\u001b[0m\u001b[1;33m[\u001b[0m\u001b[1;36m0\u001b[0m\u001b[1;33m]\u001b[0m\u001b[1;33m\u001b[0m\u001b[1;33m\u001b[0m\u001b[0m\n\u001b[1;32m---> 31\u001b[1;33m                 \u001b[0mdict_game_name\u001b[0m \u001b[1;33m=\u001b[0m \u001b[0mlookup_dict\u001b[0m\u001b[1;33m[\u001b[0m\u001b[0mgame\u001b[0m\u001b[1;33m[\u001b[0m\u001b[1;36m0\u001b[0m\u001b[1;33m]\u001b[0m\u001b[1;33m]\u001b[0m\u001b[1;33m[\u001b[0m\u001b[1;34m'title'\u001b[0m\u001b[1;33m]\u001b[0m\u001b[1;33m\u001b[0m\u001b[1;33m\u001b[0m\u001b[0m\n\u001b[0m\u001b[0;32m     32\u001b[0m                 \u001b[0mdict_platform_ID\u001b[0m \u001b[1;33m=\u001b[0m \u001b[0mlookup_dict\u001b[0m\u001b[1;33m[\u001b[0m\u001b[0mgame\u001b[0m\u001b[1;33m[\u001b[0m\u001b[1;36m0\u001b[0m\u001b[1;33m]\u001b[0m\u001b[1;33m]\u001b[0m\u001b[1;33m[\u001b[0m\u001b[1;34m'platform_ID'\u001b[0m\u001b[1;33m]\u001b[0m\u001b[1;33m\u001b[0m\u001b[1;33m\u001b[0m\u001b[0m\n\u001b[0;32m     33\u001b[0m                 \u001b[0mdict_summary\u001b[0m \u001b[1;33m=\u001b[0m \u001b[0mlookup_dict\u001b[0m\u001b[1;33m[\u001b[0m\u001b[0mgame\u001b[0m\u001b[1;33m[\u001b[0m\u001b[1;36m0\u001b[0m\u001b[1;33m]\u001b[0m\u001b[1;33m]\u001b[0m\u001b[1;33m[\u001b[0m\u001b[1;34m'summary'\u001b[0m\u001b[1;33m]\u001b[0m\u001b[1;33m\u001b[0m\u001b[1;33m\u001b[0m\u001b[0m\n",
      "\u001b[1;31mKeyError\u001b[0m: 'Minecraft'"
     ]
    }
   ],
   "source": [
    "test.get_filtered_recommendations('Terraria', 3, [], 10)"
   ]
  }
 ],
 "metadata": {
  "kernelspec": {
   "display_name": "Python 3",
   "language": "python",
   "name": "python3"
  },
  "language_info": {
   "codemirror_mode": {
    "name": "ipython",
    "version": 3
   },
   "file_extension": ".py",
   "mimetype": "text/x-python",
   "name": "python",
   "nbconvert_exporter": "python",
   "pygments_lexer": "ipython3",
   "version": "3.7.3"
  }
 },
 "nbformat": 4,
 "nbformat_minor": 2
}

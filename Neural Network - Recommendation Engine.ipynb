{
 "cells": [
  {
   "cell_type": "code",
   "execution_count": 1,
   "metadata": {},
   "outputs": [],
   "source": [
    "import pandas as pd\n",
    "\n",
    "game_reviews = pd.read_csv('data\\\\Processed Data\\\\game_reviews.csv')\n",
    "games = pd.read_csv('data\\\\Processed Data\\\\games.csv')"
   ]
  },
  {
   "cell_type": "markdown",
   "metadata": {},
   "source": [
    "To Do:\n",
    " - What data needs to be added to review table for the engine?\n",
    " - Preliminary Neural Network model\n",
    " - How to allow a user to access the model, and make further preferential selections?"
   ]
  },
  {
   "cell_type": "markdown",
   "metadata": {},
   "source": [
    "#### Prep Data"
   ]
  },
  {
   "cell_type": "code",
   "execution_count": 2,
   "metadata": {},
   "outputs": [],
   "source": [
    "titles = games[['title', 'game_ID']]\n",
    "reviews = pd.merge(game_reviews, titles, how=\"left\", on=\"game_ID\")\n",
    "reviews = reviews[pd.notnull(reviews['review_text'])]"
   ]
  },
  {
   "cell_type": "code",
   "execution_count": 3,
   "metadata": {},
   "outputs": [
    {
     "data": {
      "text/plain": [
       "game_ID             0\n",
       "user_ID             0\n",
       "score            3170\n",
       "review_text         0\n",
       "date           193598\n",
       "title               0\n",
       "dtype: int64"
      ]
     },
     "execution_count": 3,
     "metadata": {},
     "output_type": "execute_result"
    }
   ],
   "source": [
    "reviews.isna().sum()"
   ]
  },
  {
   "cell_type": "markdown",
   "metadata": {},
   "source": [
    "#### Build Model"
   ]
  },
  {
   "cell_type": "code",
   "execution_count": 4,
   "metadata": {},
   "outputs": [],
   "source": [
    "import gensim\n",
    "from gensim.models.doc2vec import Doc2Vec, TaggedDocument\n",
    "from gensim.utils import simple_preprocess"
   ]
  },
  {
   "cell_type": "code",
   "execution_count": 6,
   "metadata": {},
   "outputs": [],
   "source": [
    "#assert gensim.models.doc2vec.FAST_VERSION > -1"
   ]
  },
  {
   "cell_type": "code",
   "execution_count": 7,
   "metadata": {},
   "outputs": [],
   "source": [
    "# MyDocs reading from a data frame\n",
    "class MyDocs(object):\n",
    "    def __iter__(self):\n",
    "        for i in range(reviews.shape[0]):\n",
    "            yield TaggedDocument(words=simple_preprocess(reviews.iloc[i,3]), tags=['%s' % reviews.iloc[i,5]])"
   ]
  },
  {
   "cell_type": "code",
   "execution_count": 8,
   "metadata": {},
   "outputs": [
    {
     "name": "stdout",
     "output_type": "stream",
     "text": [
      "start traing doc2vec model...\n",
      "Wall time: 17min 8s\n"
     ]
    }
   ],
   "source": [
    "%%time\n",
    "import multiprocessing\n",
    "import os\n",
    "cores = multiprocessing.cpu_count()\n",
    "\n",
    "if not os.path.exists('models/doc2vec.model'):\n",
    "    print(\"start traing doc2vec model...\")\n",
    "    documents = MyDocs()\n",
    "    doc2vec_model = Doc2Vec(dm=1, dbow_words=1, vector_size=200, window=8, min_count=20, workers=cores)\n",
    "    doc2vec_model.build_vocab(documents)\n",
    "    doc2vec_model.train(documents, total_examples=doc2vec_model.corpus_count, epochs=doc2vec_model.epochs)\n",
    "    if not os.path.exists('models'):\n",
    "        os.makedirs('models')\n",
    "        doc2vec_model.save('models/doc2vec.model')\n",
    "    else:\n",
    "        doc2vec_model.save('models/doc2vec.model')\n",
    "else:\n",
    "    doc2vec_model = Doc2Vec.load('models/doc2vec.model')"
   ]
  },
  {
   "cell_type": "code",
   "execution_count": 11,
   "metadata": {},
   "outputs": [],
   "source": [
    "def search(keyword):\n",
    "    result = []\n",
    "    for name in reviews.title:\n",
    "        if keyword in name.lower():\n",
    "            result.append(name)\n",
    "    return set(result)"
   ]
  },
  {
   "cell_type": "code",
   "execution_count": 31,
   "metadata": {},
   "outputs": [
    {
     "data": {
      "text/plain": [
       "{'Overwatch'}"
      ]
     },
     "execution_count": 31,
     "metadata": {},
     "output_type": "execute_result"
    }
   ],
   "source": [
    "search('overwatch')"
   ]
  },
  {
   "cell_type": "code",
   "execution_count": 26,
   "metadata": {},
   "outputs": [
    {
     "data": {
      "text/html": [
       "<div>\n",
       "<style scoped>\n",
       "    .dataframe tbody tr th:only-of-type {\n",
       "        vertical-align: middle;\n",
       "    }\n",
       "\n",
       "    .dataframe tbody tr th {\n",
       "        vertical-align: top;\n",
       "    }\n",
       "\n",
       "    .dataframe thead th {\n",
       "        text-align: right;\n",
       "    }\n",
       "</style>\n",
       "<table border=\"1\" class=\"dataframe\">\n",
       "  <thead>\n",
       "    <tr style=\"text-align: right;\">\n",
       "      <th></th>\n",
       "      <th>game_ID</th>\n",
       "      <th>title</th>\n",
       "      <th>platform_ID</th>\n",
       "      <th>metascore</th>\n",
       "      <th>average_user_score</th>\n",
       "      <th>summary</th>\n",
       "      <th>developer_ID</th>\n",
       "      <th>publisher_ID</th>\n",
       "      <th>release_date</th>\n",
       "      <th>ESRB_rating</th>\n",
       "      <th>url</th>\n",
       "    </tr>\n",
       "  </thead>\n",
       "  <tbody>\n",
       "  </tbody>\n",
       "</table>\n",
       "</div>"
      ],
      "text/plain": [
       "Empty DataFrame\n",
       "Columns: [game_ID, title, platform_ID, metascore, average_user_score, summary, developer_ID, publisher_ID, release_date, ESRB_rating, url]\n",
       "Index: []"
      ]
     },
     "execution_count": 26,
     "metadata": {},
     "output_type": "execute_result"
    }
   ],
   "source": [
    "games[games['title']=='Dwarf Fortress']"
   ]
  },
  {
   "cell_type": "code",
   "execution_count": 32,
   "metadata": {},
   "outputs": [
    {
     "name": "stdout",
     "output_type": "stream",
     "text": [
      "[('LawBreakers', 0.8211004734039307), ('Heroes of the Storm', 0.7917600274085999), ('Battleborn', 0.7679393291473389), ('Valorant', 0.7619352340698242), ('Bleeding Edge', 0.7391541004180908), ('Paladins: Champions of the Realm', 0.72760009765625), ('Apex Legends', 0.6942335963249207), ('Super Monday Night Combat', 0.6853289008140564), ('League of Legends', 0.6812535524368286), ('Loadout', 0.6728128790855408), ('Dirty Bomb', 0.6688874363899231), ('Arena of Valor', 0.6632523536682129), ('Awesomenauts', 0.6631989479064941), ('Plants vs Zombies: Garden Warfare', 0.6400943994522095), ('Gigantic', 0.6392277479171753), ('SMITE', 0.6377713680267334), (\"Tom Clancy's Rainbow Six Siege\", 0.6347534656524658), ('Dota 2', 0.6346404552459717), ('Drawn to Death', 0.6341026425361633), ('Team Fortress 2', 0.6339164972305298)]\n"
     ]
    }
   ],
   "source": [
    "print(doc2vec_model.docvecs.most_similar('Overwatch', topn=20))"
   ]
  }
 ],
 "metadata": {
  "kernelspec": {
   "display_name": "Python 3",
   "language": "python",
   "name": "python3"
  },
  "language_info": {
   "codemirror_mode": {
    "name": "ipython",
    "version": 3
   },
   "file_extension": ".py",
   "mimetype": "text/x-python",
   "name": "python",
   "nbconvert_exporter": "python",
   "pygments_lexer": "ipython3",
   "version": "3.7.3"
  }
 },
 "nbformat": 4,
 "nbformat_minor": 2
}

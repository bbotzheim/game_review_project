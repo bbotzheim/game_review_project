{
 "cells": [
  {
   "cell_type": "code",
   "execution_count": 1,
   "metadata": {},
   "outputs": [],
   "source": [
    "import pandas as pd\n",
    "\n",
    "game_reviews = pd.read_csv('data\\\\Processed Data\\\\game_reviews.csv')\n",
    "games = pd.read_csv('data\\\\Processed Data\\\\games.csv')\n",
    "genres = pd.read_csv('data\\\\Processed Data\\\\genres.csv')\n",
    "game_genre_tags = pd.read_csv('data\\\\Processed Data\\\\game_genre_tags.csv')\n",
    "platforms = pd.read_csv('data\\\\Processed Data\\\\platforms.csv')"
   ]
  },
  {
   "cell_type": "markdown",
   "metadata": {},
   "source": [
    "To Do:\n",
    " - What data needs to be added to review table for the engine?\n",
    " - Preliminary Neural Network model\n",
    " - How to allow a user to access the model, and make further preferential selections?"
   ]
  },
  {
   "cell_type": "markdown",
   "metadata": {},
   "source": [
    "#### Prep Data"
   ]
  },
  {
   "cell_type": "code",
   "execution_count": 2,
   "metadata": {},
   "outputs": [],
   "source": [
    "reviews = reviews[pd.notnull(reviews['review_text'])]"
   ]
  },
  {
   "cell_type": "code",
   "execution_count": 3,
   "metadata": {},
   "outputs": [
    {
     "data": {
      "text/plain": [
       "game_ID             0\n",
       "user_ID             0\n",
       "score            3170\n",
       "review_text         0\n",
       "date           193598\n",
       "title               0\n",
       "dtype: int64"
      ]
     },
     "execution_count": 3,
     "metadata": {},
     "output_type": "execute_result"
    }
   ],
   "source": [
    "reviews.isna().sum()"
   ]
  },
  {
   "cell_type": "markdown",
   "metadata": {},
   "source": [
    "#### Build Model"
   ]
  },
  {
   "cell_type": "code",
   "execution_count": 4,
   "metadata": {},
   "outputs": [],
   "source": [
    "import gensim\n",
    "from gensim.models.doc2vec import Doc2Vec, TaggedDocument\n",
    "from gensim.utils import simple_preprocess"
   ]
  },
  {
   "cell_type": "code",
   "execution_count": 20,
   "metadata": {},
   "outputs": [],
   "source": [
    "#assert gensim.models.doc2vec.FAST_VERSION > -1"
   ]
  },
  {
   "cell_type": "code",
   "execution_count": 6,
   "metadata": {},
   "outputs": [],
   "source": [
    "# MyDocs reading from a data frame\n",
    "class MyDocs(object):\n",
    "    def __iter__(self):\n",
    "        for i in range(reviews.shape[0]):\n",
    "            yield TaggedDocument(words=simple_preprocess(reviews.iloc[i,3]), tags=['%s' % reviews.iloc[i,0]])"
   ]
  },
  {
   "cell_type": "code",
   "execution_count": 8,
   "metadata": {},
   "outputs": [
    {
     "name": "stdout",
     "output_type": "stream",
     "text": [
      "start traing doc2vec model...\n",
      "Wall time: 17min 25s\n"
     ]
    }
   ],
   "source": [
    "%%time\n",
    "import multiprocessing\n",
    "import os\n",
    "cores = multiprocessing.cpu_count()\n",
    "\n",
    "try:\n",
    "    doc2vec_model = Doc2Vec.load('models/doc2vec.model')\n",
    "\n",
    "except:\n",
    "    print(\"start traing doc2vec model...\")\n",
    "    documents = MyDocs()\n",
    "    doc2vec_model = Doc2Vec(dm=1, dbow_words=1, vector_size=200, window=8, min_count=20, workers=cores)\n",
    "    doc2vec_model.build_vocab(documents)\n",
    "    doc2vec_model.train(documents, total_examples=doc2vec_model.corpus_count, epochs=doc2vec_model.epochs)\n",
    "    if not os.path.exists('models'):\n",
    "        os.makedirs('models')\n",
    "        doc2vec_model.save('models/doc2vec.model')\n",
    "    else:\n",
    "        doc2vec_model.save('models/doc2vec.model')"
   ]
  },
  {
   "cell_type": "code",
   "execution_count": 9,
   "metadata": {},
   "outputs": [],
   "source": [
    "def search(keyword):\n",
    "    result = []\n",
    "    for name in reviews.title:\n",
    "        if keyword in name.lower():\n",
    "            result.append(name)\n",
    "    return set(result)"
   ]
  },
  {
   "cell_type": "code",
   "execution_count": 10,
   "metadata": {},
   "outputs": [
    {
     "data": {
      "text/plain": [
       "{'Overwatch'}"
      ]
     },
     "execution_count": 10,
     "metadata": {},
     "output_type": "execute_result"
    }
   ],
   "source": [
    "search('overwatch')"
   ]
  },
  {
   "cell_type": "code",
   "execution_count": 11,
   "metadata": {},
   "outputs": [
    {
     "data": {
      "text/plain": [
       "[('18772', 0.5355895161628723),\n",
       " ('24337', 0.5223432779312134),\n",
       " ('24977', 0.5219161510467529),\n",
       " ('25762', 0.5189286470413208),\n",
       " ('24370', 0.5155553221702576)]"
      ]
     },
     "execution_count": 11,
     "metadata": {},
     "output_type": "execute_result"
    }
   ],
   "source": [
    "vec = doc2vec_model['cars']\n",
    "doc2vec_model.docvecs.most_similar([vec], topn=5)"
   ]
  },
  {
   "cell_type": "code",
   "execution_count": 13,
   "metadata": {},
   "outputs": [],
   "source": [
    "#doc2vec_model.docvecs.most_similar('Terraria', topn=20)"
   ]
  },
  {
   "cell_type": "code",
   "execution_count": 46,
   "metadata": {},
   "outputs": [],
   "source": [
    "class Recommender(object):\n",
    "    def __init__(self, model, games_df, platform_df, genre_df, game_genre_tags_df):\n",
    "        self.model = model\n",
    "        self.games_df = games_df\n",
    "        self.platform_df = platform_df\n",
    "        self.genre_df = genre_df\n",
    "        self.game_genre_tags_df = game_genre_tags_df\n",
    "        \n",
    "        self.genre_dict = {}\n",
    "        for i in self.game_genre_tags_df['game_ID'].unique():\n",
    "            self.genre_dict[i] = [self.game_genre_tags_df['genre_ID'][j] for j in self.game_genre_tags_df[self.game_genre_tags_df['game_ID']==i].index]\n",
    "\n",
    "    def create_lookup(self):\n",
    "        '''Helper method that creates a lookup dictionary (from the games table) to easily filter by game ID.'''\n",
    "        self.lookup_df = self.games_df[['game_ID', 'title', 'platform_ID', 'summary', 'url']]\n",
    "        self.lookup_df['game_ID'] = self.lookup_df['game_ID'].astype(str)\n",
    "        self.lookup_dict = self.lookup_df.set_index('game_ID').to_dict(orient='index')\n",
    "        return self.lookup_dict\n",
    "        \n",
    "    def get_recommendations(self, keyword, n = 100):\n",
    "        '''Helper method that calls the Doc2Vec model to get recommendations.\n",
    "                Input:\n",
    "                keyword = Game ID (to build recommendations from)\n",
    "                n = # of recommendations to return (default = 100)\n",
    "        '''\n",
    "        return self.model.docvecs.most_similar(keyword, topn=n)\n",
    "\n",
    "    def get_filtered_recommendations(self, keyword, platform_ID, genre_IDs, n):\n",
    "        ''' Method that takes a keyword to build recommendations from, and filters recommendations by game \n",
    "        platform and genres, to the top 'n' recommendations.\n",
    "                Input: \n",
    "                keyword = game ID (string)\n",
    "                platform_ID = platform ID (integer)\n",
    "                genre_IDs = genre ID (list of integers)\n",
    "                n = number of recommendations to return (integer)\n",
    "                \n",
    "                Output:\n",
    "                filtered_results = dictionary\n",
    "        '''\n",
    "        lookup_dict = self.create_lookup()\n",
    "        ranked_results = self.get_recommendations(keyword)\n",
    "        \n",
    "        filtered_results = {}\n",
    "\n",
    "        for game in ranked_results:\n",
    "            if len(filtered_results) < n:\n",
    "                dict_id = game[0]\n",
    "                dict_game_name = lookup_dict[game[0]]['title']\n",
    "                dict_platform_ID = lookup_dict[game[0]]['platform_ID']\n",
    "                dict_summary = lookup_dict[game[0]]['summary']\n",
    "                dict_url = lookup_dict[game[0]]['url']\n",
    "                \n",
    "                if (platform_ID is None) and (len(genre_IDs) == 0):\n",
    "                    filtered_results[dict_id] = (dict_game_name, dict_summary, dict_url)\n",
    "\n",
    "                elif len(genre_IDs) == 0:\n",
    "                    if (dict_platform_ID == platform_ID):\n",
    "                        if dict_id in filtered_results:\n",
    "                            continue\n",
    "                        else:\n",
    "                            filtered_results[dict_id] = (dict_game_name, dict_summary, dict_url)\n",
    "\n",
    "                elif platform_ID is None:\n",
    "                    if set(genre_IDs) & set(self.genre_dict[dict_id]) > 0:\n",
    "                        if dict_id in filtered_results:\n",
    "                            continue\n",
    "                        else:\n",
    "                            filtered_results[dict_id] = (dict_game_name, dict_summary, dict_url)\n",
    "\n",
    "                elif (dict_platform_ID == platform_ID) and (set(genre_IDs) & set(self.genre_dict[dict_id]) > 0):\n",
    "                        if dict_id in filtered_results:\n",
    "                            continue\n",
    "                        else:  \n",
    "                            filtered_results[dict_id] = (dict_game_name, dict_summary, dict_url)\n",
    "\n",
    "        if len(filtered_results) > 0:\n",
    "            return filtered_results\n",
    "        else:\n",
    "            return \n",
    "        \n",
    "    def lookup_value(self, id_number, id_type):\n",
    "        '''Method that looks up the value of the ID number for a game, platform, or genre.\n",
    "                Input: \n",
    "                id_number = game, platform, or genre ID (integer)\n",
    "                id_type = must equal 'game', 'platform', or 'genre'\n",
    "                \n",
    "                Output:\n",
    "                Corresponding name for a genre or platform ID (as string). Returns the entire corresponding\n",
    "                row for a game ID.\n",
    "        '''\n",
    "        if id_type == 'game':\n",
    "            return self.games_df[self.games_df['game_ID']==id_number]\n",
    "            \n",
    "        elif id_type == 'platform':\n",
    "            return self.platform_df[self.platform_df['platform_ID']==id_number]['platform'].iloc[0]\n",
    "        \n",
    "        elif id_type == 'genre':\n",
    "            return self.genre_df[self.genre_df['genre_ID']==id_number]['genre_name'].iloc[0]\n",
    "        \n",
    "        else:\n",
    "            raise ValueError(\"id_type must equal 'game', 'platform', or 'genre'\")\n",
    "            \n",
    "    def lookup_id(self, name, id_type):\n",
    "        '''Method that looks up the ID of a game, platform, or genre.\n",
    "                Input: \n",
    "                name = game, platform, or genre name (string)\n",
    "                id_type = must equal 'game', 'platform', or 'genre\n",
    "                \n",
    "                Output:\n",
    "                Corresponding ID for a genre or platform name (as integer). Returns the entire corresponding\n",
    "                row for a game.\n",
    "        '''\n",
    "        if id_type == 'game':\n",
    "            return self.games_df[self.games_df['title']==name]\n",
    "            \n",
    "        elif id_type == 'platform':\n",
    "            return self.platform_df[self.platform_df['platform']==name]['platform_ID'].iloc[0]\n",
    "        \n",
    "        elif id_type == 'genre':\n",
    "            return self.genre_df[self.genre_df['genre_name']==name]['genre_ID'].iloc[0]\n",
    "        \n",
    "        else:\n",
    "            raise ValueError(\"id_type must equal 'game', 'platform', or 'genre'. Error may be caused by\\\n",
    "            no corresponding ID for input 'name'.\")\n",
    "        "
   ]
  }
 ],
 "metadata": {
  "kernelspec": {
   "display_name": "Python 3",
   "language": "python",
   "name": "python3"
  },
  "language_info": {
   "codemirror_mode": {
    "name": "ipython",
    "version": 3
   },
   "file_extension": ".py",
   "mimetype": "text/x-python",
   "name": "python",
   "nbconvert_exporter": "python",
   "pygments_lexer": "ipython3",
   "version": "3.7.3"
  }
 },
 "nbformat": 4,
 "nbformat_minor": 2
}
